{
 "cells": [
  {
   "cell_type": "code",
   "execution_count": 1,
   "metadata": {},
   "outputs": [],
   "source": [
    "import pandas as pd\n",
    "import numpy as np\n",
    "import re"
   ]
  },
  {
   "cell_type": "code",
   "execution_count": 50,
   "metadata": {},
   "outputs": [
    {
     "name": "stdout",
     "output_type": "stream",
     "text": [
      "<class 'pandas.core.frame.DataFrame'>\n",
      "Int64Index: 1785 entries, 0 to 1786\n",
      "Data columns (total 2 columns):\n",
      " #   Column   Non-Null Count  Dtype \n",
      "---  ------   --------------  ----- \n",
      " 0   Tweet    1785 non-null   object\n",
      " 1   Suicide  1785 non-null   object\n",
      "dtypes: object(2)\n",
      "memory usage: 41.8+ KB\n"
     ]
    }
   ],
   "source": [
    "df = pd.read_csv('sucide.csv')\n",
    "df.dropna(inplace=True)\n",
    "df.info()"
   ]
  },
  {
   "cell_type": "code",
   "execution_count": 3,
   "metadata": {},
   "outputs": [
    {
     "data": {
      "text/plain": [
       "'@ValenValdez Oh thats good to hear But is it over already Or youll continue it after the Holy week'"
      ]
     },
     "execution_count": 3,
     "metadata": {},
     "output_type": "execute_result"
    }
   ],
   "source": [
    "re.sub(r\"[,.?!']\", \"\", df['Tweet'][5])"
   ]
  },
  {
   "cell_type": "code",
   "execution_count": 51,
   "metadata": {},
   "outputs": [
    {
     "data": {
      "text/plain": [
       "0                                       making some lunch\n",
       "1                                      you want his money\n",
       "2       that crap took me forever to put together i m ...\n",
       "3             hey jer since when did you start twittering\n",
       "4       trying out quot delicious library quot with mi...\n",
       "                              ...                        \n",
       "1782          i have forgotten how much i love my nokia n\n",
       "1783    starting my day out with a positive attitude t...\n",
       "1784       hey it s am give a girl some credit for trying\n",
       "1785    drunken besties stumble into my room and we ru...\n",
       "1786    quot i friggin love you quot ron burgundy ridi...\n",
       "Name: Tweet, Length: 1785, dtype: object"
      ]
     },
     "execution_count": 51,
     "metadata": {},
     "output_type": "execute_result"
    }
   ],
   "source": [
    "def cleaning_one(stri):\n",
    "\n",
    "    stri = stri.split(\" \")\n",
    "    for i in range(len(stri)):\n",
    "        for j in ['@', '#']:\n",
    "            if j in stri[i]:\n",
    "                stri[i] = stri[i].replace(stri[i], \"\")\n",
    "    stri = \" \".join(stri)\n",
    "    stri = re.sub(r\"[\\W+0-9+]\", \" \", stri)\n",
    "    stri = re.findall(r\"[A-Za-z]+\", stri)\n",
    "    stri = \" \".join(stri)\n",
    "    stri = stri.lower()\n",
    "\n",
    "    return stri\n",
    "\n",
    "\n",
    "df['Tweet'].apply(lambda x: cleaning_one(x))"
   ]
  },
  {
   "cell_type": "code",
   "execution_count": 5,
   "metadata": {},
   "outputs": [],
   "source": [
    "import nltk\n",
    "from nltk.corpus import stopwords\n",
    "from nltk.stem import PorterStemmer\n",
    " \n",
    "#nltk.download('stopwords')"
   ]
  },
  {
   "cell_type": "code",
   "execution_count": 52,
   "metadata": {},
   "outputs": [
    {
     "data": {
      "text/plain": [
       "0                                              make lunch\n",
       "1                                 @alexia you want money.\n",
       "2       @dizzyhrvi crap took forev put together. iâm...\n",
       "3       @jnaylor #kiwitweet hey jer! sinc start twitte...\n",
       "4       tri &quot;delici librari 2&quot; mix result th...\n",
       "                              ...                        \n",
       "1782                      forgotten much love nokia n95-1\n",
       "1783    start day posit attitude! to great watch great...\n",
       "1784    @belledame222 hey, 5 am...giv girl credit trying.\n",
       "1785    2 drunken besti stumbl room run around sober c...\n",
       "1786    @dancingbonita &quot;i friggin love you!!!&quo...\n",
       "Name: Tweet, Length: 1785, dtype: object"
      ]
     },
     "execution_count": 52,
     "metadata": {},
     "output_type": "execute_result"
    }
   ],
   "source": [
    "def nltk_processing(stri):\n",
    "\n",
    "    stop_words = set(stopwords.words('english'))\n",
    "    ps = PorterStemmer()\n",
    "    stri = stri.split(\" \")\n",
    "    stri = [ps.stem(i) for i in stri if i not in stop_words]\n",
    "    stri = \" \".join(stri)\n",
    "\n",
    "    return stri\n",
    "\n",
    "df['Tweet'].apply(lambda x: nltk_processing(x))"
   ]
  },
  {
   "cell_type": "code",
   "execution_count": 53,
   "metadata": {},
   "outputs": [],
   "source": [
    "df['Tweet'] = df['Tweet'].apply(lambda x: cleaning_one(x)).apply(lambda x: nltk_processing(x))"
   ]
  },
  {
   "cell_type": "code",
   "execution_count": 55,
   "metadata": {},
   "outputs": [],
   "source": [
    "from tensorflow.keras.models import Sequential\n",
    "from tensorflow.keras.preprocessing.text import Tokenizer\n",
    "from tensorflow.keras.preprocessing.sequence import pad_sequences\n",
    "from tensorflow.keras.layers import Embedding, LSTM, Dense, Bidirectional\n",
    "from tensorflow.keras.optimizers import RMSprop"
   ]
  },
  {
   "cell_type": "code",
   "execution_count": 60,
   "metadata": {},
   "outputs": [],
   "source": [
    "def tf_processing(corpus):\n",
    "\n",
    "    tokenizer = Tokenizer()\n",
    "    tokenizer.fit_on_texts(corpus)\n",
    "    sequences = tokenizer.texts_to_sequences(corpus)\n",
    "    total_words = len(tokenizer.word_index) + 1\n",
    "    maxlen = max([len(x) for x in sequences])\n",
    "    sequences = pad_sequences(sequences, maxlen=maxlen)\n",
    "\n",
    "    return sequences, total_words, maxlen, tokenizer"
   ]
  },
  {
   "cell_type": "code",
   "execution_count": 10,
   "metadata": {},
   "outputs": [
    {
     "data": {
      "text/plain": [
       "0           Not Suicide post\n",
       "2    Potential Suicide post \n",
       "Name: Suicide, dtype: object"
      ]
     },
     "execution_count": 10,
     "metadata": {},
     "output_type": "execute_result"
    }
   ],
   "source": [
    "df['Suicide'].drop_duplicates()"
   ]
  },
  {
   "cell_type": "code",
   "execution_count": 61,
   "metadata": {},
   "outputs": [
    {
     "data": {
      "text/plain": [
       "1785"
      ]
     },
     "execution_count": 61,
     "metadata": {},
     "output_type": "execute_result"
    }
   ],
   "source": [
    "X, total_words, maxlen, tokenizer = tf_processing(df['Tweet'])\n",
    "y = df['Suicide'].replace({'Not Suicide post':0, 'Potential Suicide post ':1})\n",
    "y = np.array(y)\n",
    "y.shape[0]"
   ]
  },
  {
   "cell_type": "code",
   "execution_count": 24,
   "metadata": {},
   "outputs": [
    {
     "data": {
      "text/plain": [
       "115"
      ]
     },
     "execution_count": 24,
     "metadata": {},
     "output_type": "execute_result"
    }
   ],
   "source": [
    "maxlen"
   ]
  },
  {
   "cell_type": "code",
   "execution_count": 12,
   "metadata": {},
   "outputs": [],
   "source": [
    "def split_data(x_data, y_data, train_split):\n",
    "\n",
    "    splits = int(x_data.shape[0] * train_split)\n",
    "    x_train = x_data[:splits]\n",
    "    y_train = y_data[:splits]\n",
    "    x_test = x_data[splits:]\n",
    "    y_test = y_data[splits:]\n",
    "\n",
    "    return x_train, x_test, y_train, y_test"
   ]
  },
  {
   "cell_type": "code",
   "execution_count": 13,
   "metadata": {},
   "outputs": [
    {
     "data": {
      "text/plain": [
       "((1428, 115), (1428,))"
      ]
     },
     "execution_count": 13,
     "metadata": {},
     "output_type": "execute_result"
    }
   ],
   "source": [
    "x_train, x_test, y_train, y_test = split_data(X, y, 0.8)\n",
    "x_train.shape, y_train.shape"
   ]
  },
  {
   "cell_type": "code",
   "execution_count": 14,
   "metadata": {},
   "outputs": [],
   "source": [
    "def create_model(total_words, maxlen):\n",
    "\n",
    "    model = Sequential([\n",
    "        Embedding(total_words, 100, input_length=maxlen),\n",
    "        Bidirectional(LSTM(128)),\n",
    "        Dense(128, activation='relu'),\n",
    "        Dense(1, activation='sigmoid'),\n",
    "    ])\n",
    "\n",
    "    model.compile(loss='binary_crossentropy',\n",
    "                  optimizer=RMSprop(learning_rate=0.0001),\n",
    "                  metrics=['accuracy'])\n",
    "    \n",
    "    return model"
   ]
  },
  {
   "cell_type": "code",
   "execution_count": 15,
   "metadata": {},
   "outputs": [
    {
     "name": "stdout",
     "output_type": "stream",
     "text": [
      "Epoch 1/20\n",
      "45/45 [==============================] - 20s 296ms/step - loss: 0.6711 - accuracy: 0.6275 - val_loss: 0.6403 - val_accuracy: 0.6443\n",
      "Epoch 2/20\n",
      "45/45 [==============================] - 11s 243ms/step - loss: 0.6354 - accuracy: 0.6275 - val_loss: 0.6043 - val_accuracy: 0.6443\n",
      "Epoch 3/20\n",
      "45/45 [==============================] - 11s 235ms/step - loss: 0.6137 - accuracy: 0.6345 - val_loss: 0.5738 - val_accuracy: 0.6751\n",
      "Epoch 4/20\n",
      "45/45 [==============================] - 11s 238ms/step - loss: 0.5874 - accuracy: 0.6940 - val_loss: 0.5380 - val_accuracy: 0.7619\n",
      "Epoch 5/20\n",
      "45/45 [==============================] - 11s 239ms/step - loss: 0.5544 - accuracy: 0.7626 - val_loss: 0.5005 - val_accuracy: 0.7955\n",
      "Epoch 6/20\n",
      "45/45 [==============================] - 11s 241ms/step - loss: 0.5229 - accuracy: 0.7703 - val_loss: 0.4717 - val_accuracy: 0.8067\n",
      "Epoch 7/20\n",
      "45/45 [==============================] - 11s 238ms/step - loss: 0.4935 - accuracy: 0.7808 - val_loss: 0.4389 - val_accuracy: 0.8347\n",
      "Epoch 8/20\n",
      "45/45 [==============================] - 11s 244ms/step - loss: 0.4594 - accuracy: 0.7983 - val_loss: 0.4161 - val_accuracy: 0.8235\n",
      "Epoch 9/20\n",
      "45/45 [==============================] - 11s 235ms/step - loss: 0.4216 - accuracy: 0.8158 - val_loss: 0.3959 - val_accuracy: 0.8263\n",
      "Epoch 10/20\n",
      "45/45 [==============================] - 11s 237ms/step - loss: 0.3844 - accuracy: 0.8382 - val_loss: 0.3671 - val_accuracy: 0.8431\n",
      "Epoch 11/20\n",
      "45/45 [==============================] - 11s 234ms/step - loss: 0.3377 - accuracy: 0.8718 - val_loss: 0.3763 - val_accuracy: 0.8347\n",
      "Epoch 12/20\n",
      "45/45 [==============================] - 10s 233ms/step - loss: 0.2935 - accuracy: 0.8978 - val_loss: 0.2847 - val_accuracy: 0.8852\n",
      "Epoch 13/20\n",
      "45/45 [==============================] - 11s 242ms/step - loss: 0.2473 - accuracy: 0.9167 - val_loss: 0.2592 - val_accuracy: 0.9048\n",
      "Epoch 14/20\n",
      "45/45 [==============================] - 11s 236ms/step - loss: 0.2138 - accuracy: 0.9286 - val_loss: 0.2442 - val_accuracy: 0.9104\n",
      "Epoch 15/20\n",
      "45/45 [==============================] - 11s 236ms/step - loss: 0.1795 - accuracy: 0.9454 - val_loss: 0.2247 - val_accuracy: 0.9048\n",
      "Epoch 16/20\n",
      "45/45 [==============================] - 11s 246ms/step - loss: 0.1545 - accuracy: 0.9475 - val_loss: 0.2084 - val_accuracy: 0.9244\n",
      "Epoch 17/20\n",
      "45/45 [==============================] - 12s 257ms/step - loss: 0.1357 - accuracy: 0.9545 - val_loss: 0.1855 - val_accuracy: 0.9356\n",
      "Epoch 18/20\n",
      "45/45 [==============================] - 12s 256ms/step - loss: 0.1214 - accuracy: 0.9601 - val_loss: 0.1908 - val_accuracy: 0.9132\n",
      "Epoch 19/20\n",
      "45/45 [==============================] - 11s 240ms/step - loss: 0.1060 - accuracy: 0.9636 - val_loss: 0.2001 - val_accuracy: 0.9188\n",
      "Epoch 20/20\n",
      "45/45 [==============================] - 11s 236ms/step - loss: 0.0968 - accuracy: 0.9692 - val_loss: 0.2456 - val_accuracy: 0.8908\n"
     ]
    }
   ],
   "source": [
    "model = create_model(total_words, maxlen)\n",
    "history = model.fit(x_train, y_train, epochs=20, verbose=1, validation_data=(x_test, y_test))"
   ]
  },
  {
   "cell_type": "code",
   "execution_count": 16,
   "metadata": {},
   "outputs": [],
   "source": [
    "from pickle import dump, load\n",
    "\n",
    "dump(model, open('model.pkl', 'wb'))"
   ]
  },
  {
   "cell_type": "code",
   "execution_count": 17,
   "metadata": {},
   "outputs": [
    {
     "name": "stdout",
     "output_type": "stream",
     "text": [
      "12/12 [==============================] - 3s 57ms/step\n"
     ]
    }
   ],
   "source": [
    "pred = model.predict(x_test)\n",
    "pred[pred < 0.5] = 0\n",
    "pred[pred >= 0.5] = 1"
   ]
  },
  {
   "cell_type": "code",
   "execution_count": 19,
   "metadata": {},
   "outputs": [
    {
     "name": "stdout",
     "output_type": "stream",
     "text": [
      "12/12 [==============================] - 2s 51ms/step\n"
     ]
    },
    {
     "data": {
      "text/plain": [
       "array([[1.],\n",
       "       [1.],\n",
       "       [0.],\n",
       "       [1.],\n",
       "       [0.],\n",
       "       [1.],\n",
       "       [0.],\n",
       "       [0.],\n",
       "       [1.],\n",
       "       [1.],\n",
       "       [1.],\n",
       "       [1.],\n",
       "       [0.],\n",
       "       [1.],\n",
       "       [0.],\n",
       "       [0.],\n",
       "       [0.],\n",
       "       [1.],\n",
       "       [0.],\n",
       "       [0.],\n",
       "       [0.],\n",
       "       [0.],\n",
       "       [1.],\n",
       "       [1.],\n",
       "       [1.],\n",
       "       [0.],\n",
       "       [0.],\n",
       "       [1.],\n",
       "       [1.],\n",
       "       [0.],\n",
       "       [1.],\n",
       "       [0.],\n",
       "       [0.],\n",
       "       [0.],\n",
       "       [0.],\n",
       "       [1.],\n",
       "       [1.],\n",
       "       [0.],\n",
       "       [0.],\n",
       "       [1.],\n",
       "       [0.],\n",
       "       [0.],\n",
       "       [0.],\n",
       "       [1.],\n",
       "       [0.],\n",
       "       [0.],\n",
       "       [1.],\n",
       "       [0.],\n",
       "       [0.],\n",
       "       [1.],\n",
       "       [0.],\n",
       "       [1.],\n",
       "       [1.],\n",
       "       [1.],\n",
       "       [0.],\n",
       "       [0.],\n",
       "       [0.],\n",
       "       [1.],\n",
       "       [0.],\n",
       "       [1.],\n",
       "       [1.],\n",
       "       [0.],\n",
       "       [1.],\n",
       "       [0.],\n",
       "       [0.],\n",
       "       [0.],\n",
       "       [0.],\n",
       "       [1.],\n",
       "       [0.],\n",
       "       [1.],\n",
       "       [1.],\n",
       "       [0.],\n",
       "       [0.],\n",
       "       [0.],\n",
       "       [0.],\n",
       "       [1.],\n",
       "       [1.],\n",
       "       [0.],\n",
       "       [0.],\n",
       "       [1.],\n",
       "       [1.],\n",
       "       [1.],\n",
       "       [0.],\n",
       "       [0.],\n",
       "       [0.],\n",
       "       [1.],\n",
       "       [0.],\n",
       "       [1.],\n",
       "       [0.],\n",
       "       [0.],\n",
       "       [0.],\n",
       "       [0.],\n",
       "       [1.],\n",
       "       [0.],\n",
       "       [1.],\n",
       "       [1.],\n",
       "       [1.],\n",
       "       [1.],\n",
       "       [1.],\n",
       "       [0.],\n",
       "       [0.],\n",
       "       [0.],\n",
       "       [0.],\n",
       "       [0.],\n",
       "       [0.],\n",
       "       [1.],\n",
       "       [0.],\n",
       "       [0.],\n",
       "       [1.],\n",
       "       [1.],\n",
       "       [0.],\n",
       "       [0.],\n",
       "       [0.],\n",
       "       [0.],\n",
       "       [1.],\n",
       "       [0.],\n",
       "       [1.],\n",
       "       [1.],\n",
       "       [0.],\n",
       "       [1.],\n",
       "       [0.],\n",
       "       [1.],\n",
       "       [0.],\n",
       "       [0.],\n",
       "       [1.],\n",
       "       [1.],\n",
       "       [1.],\n",
       "       [0.],\n",
       "       [0.],\n",
       "       [0.],\n",
       "       [1.],\n",
       "       [1.],\n",
       "       [0.],\n",
       "       [0.],\n",
       "       [1.],\n",
       "       [0.],\n",
       "       [1.],\n",
       "       [1.],\n",
       "       [0.],\n",
       "       [1.],\n",
       "       [0.],\n",
       "       [0.],\n",
       "       [1.],\n",
       "       [1.],\n",
       "       [1.],\n",
       "       [0.],\n",
       "       [0.],\n",
       "       [1.],\n",
       "       [1.],\n",
       "       [1.],\n",
       "       [1.],\n",
       "       [0.],\n",
       "       [1.],\n",
       "       [0.],\n",
       "       [1.],\n",
       "       [1.],\n",
       "       [0.],\n",
       "       [1.],\n",
       "       [1.],\n",
       "       [0.],\n",
       "       [0.],\n",
       "       [1.],\n",
       "       [0.],\n",
       "       [0.],\n",
       "       [0.],\n",
       "       [1.],\n",
       "       [0.],\n",
       "       [1.],\n",
       "       [0.],\n",
       "       [0.],\n",
       "       [1.],\n",
       "       [1.],\n",
       "       [0.],\n",
       "       [0.],\n",
       "       [0.],\n",
       "       [1.],\n",
       "       [0.],\n",
       "       [1.],\n",
       "       [0.],\n",
       "       [0.],\n",
       "       [0.],\n",
       "       [0.],\n",
       "       [0.],\n",
       "       [1.],\n",
       "       [1.],\n",
       "       [1.],\n",
       "       [0.],\n",
       "       [0.],\n",
       "       [0.],\n",
       "       [1.],\n",
       "       [0.],\n",
       "       [0.],\n",
       "       [0.],\n",
       "       [1.],\n",
       "       [0.],\n",
       "       [0.],\n",
       "       [0.],\n",
       "       [0.],\n",
       "       [0.],\n",
       "       [1.],\n",
       "       [1.],\n",
       "       [1.],\n",
       "       [1.],\n",
       "       [0.],\n",
       "       [1.],\n",
       "       [0.],\n",
       "       [0.],\n",
       "       [0.],\n",
       "       [0.],\n",
       "       [1.],\n",
       "       [1.],\n",
       "       [0.],\n",
       "       [0.],\n",
       "       [1.],\n",
       "       [1.],\n",
       "       [1.],\n",
       "       [1.],\n",
       "       [1.],\n",
       "       [1.],\n",
       "       [0.],\n",
       "       [1.],\n",
       "       [1.],\n",
       "       [1.],\n",
       "       [1.],\n",
       "       [0.],\n",
       "       [1.],\n",
       "       [0.],\n",
       "       [1.],\n",
       "       [1.],\n",
       "       [1.],\n",
       "       [1.],\n",
       "       [1.],\n",
       "       [0.],\n",
       "       [0.],\n",
       "       [0.],\n",
       "       [1.],\n",
       "       [1.],\n",
       "       [0.],\n",
       "       [0.],\n",
       "       [0.],\n",
       "       [0.],\n",
       "       [1.],\n",
       "       [0.],\n",
       "       [0.],\n",
       "       [1.],\n",
       "       [0.],\n",
       "       [1.],\n",
       "       [1.],\n",
       "       [1.],\n",
       "       [1.],\n",
       "       [0.],\n",
       "       [1.],\n",
       "       [1.],\n",
       "       [0.],\n",
       "       [0.],\n",
       "       [1.],\n",
       "       [0.],\n",
       "       [0.],\n",
       "       [1.],\n",
       "       [0.],\n",
       "       [0.],\n",
       "       [1.],\n",
       "       [1.],\n",
       "       [0.],\n",
       "       [1.],\n",
       "       [0.],\n",
       "       [0.],\n",
       "       [1.],\n",
       "       [0.],\n",
       "       [0.],\n",
       "       [1.],\n",
       "       [1.],\n",
       "       [1.],\n",
       "       [0.],\n",
       "       [0.],\n",
       "       [0.],\n",
       "       [1.],\n",
       "       [0.],\n",
       "       [1.],\n",
       "       [1.],\n",
       "       [0.],\n",
       "       [0.],\n",
       "       [0.],\n",
       "       [0.],\n",
       "       [0.],\n",
       "       [0.],\n",
       "       [0.],\n",
       "       [0.],\n",
       "       [1.],\n",
       "       [1.],\n",
       "       [1.],\n",
       "       [0.],\n",
       "       [0.],\n",
       "       [0.],\n",
       "       [0.],\n",
       "       [1.],\n",
       "       [0.],\n",
       "       [0.],\n",
       "       [0.],\n",
       "       [0.],\n",
       "       [1.],\n",
       "       [1.],\n",
       "       [1.],\n",
       "       [0.],\n",
       "       [1.],\n",
       "       [1.],\n",
       "       [0.],\n",
       "       [0.],\n",
       "       [0.],\n",
       "       [1.],\n",
       "       [1.],\n",
       "       [1.],\n",
       "       [1.],\n",
       "       [1.],\n",
       "       [0.],\n",
       "       [0.],\n",
       "       [0.],\n",
       "       [0.],\n",
       "       [0.],\n",
       "       [1.],\n",
       "       [1.],\n",
       "       [1.],\n",
       "       [0.],\n",
       "       [1.],\n",
       "       [0.],\n",
       "       [0.],\n",
       "       [0.],\n",
       "       [0.],\n",
       "       [0.],\n",
       "       [1.],\n",
       "       [0.],\n",
       "       [0.],\n",
       "       [1.],\n",
       "       [1.],\n",
       "       [0.],\n",
       "       [0.],\n",
       "       [0.],\n",
       "       [0.],\n",
       "       [0.],\n",
       "       [0.],\n",
       "       [0.],\n",
       "       [1.],\n",
       "       [0.],\n",
       "       [0.],\n",
       "       [1.],\n",
       "       [1.],\n",
       "       [1.],\n",
       "       [0.],\n",
       "       [1.],\n",
       "       [1.],\n",
       "       [1.],\n",
       "       [1.],\n",
       "       [0.],\n",
       "       [0.],\n",
       "       [0.],\n",
       "       [0.],\n",
       "       [0.]], dtype=float32)"
      ]
     },
     "execution_count": 19,
     "metadata": {},
     "output_type": "execute_result"
    }
   ],
   "source": [
    "with open('model.pkl', 'rb') as file:\n",
    "    # Load the data from the PKL file\n",
    "    data = load(file)\n",
    "\n",
    "result = data.predict(x_test)\n",
    "result[result < 0.5] = 0\n",
    "result[result >= 0.5] = 1\n",
    "result"
   ]
  },
  {
   "cell_type": "code",
   "execution_count": 22,
   "metadata": {},
   "outputs": [],
   "source": [
    "dump(tokenizer, open('tokenizer.pkl', 'wb'))"
   ]
  }
 ],
 "metadata": {
  "kernelspec": {
   "display_name": "Python 3 (ipykernel)",
   "language": "python",
   "name": "python3"
  },
  "language_info": {
   "codemirror_mode": {
    "name": "ipython",
    "version": 3
   },
   "file_extension": ".py",
   "mimetype": "text/x-python",
   "name": "python",
   "nbconvert_exporter": "python",
   "pygments_lexer": "ipython3",
   "version": "3.8.4"
  }
 },
 "nbformat": 4,
 "nbformat_minor": 2
}
